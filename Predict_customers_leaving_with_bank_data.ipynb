{
  "nbformat": 4,
  "nbformat_minor": 0,
  "metadata": {
    "kernelspec": {
      "display_name": "Python 3",
      "language": "python",
      "name": "python3"
    },
    "language_info": {
      "codemirror_mode": {
        "name": "ipython",
        "version": 3
      },
      "file_extension": ".py",
      "mimetype": "text/x-python",
      "name": "python",
      "nbconvert_exporter": "python",
      "pygments_lexer": "ipython3",
      "version": "3.7.6"
    },
    "colab": {
      "name": "Predict customers leaving with bank data.ipynb",
      "provenance": []
    }
  },
  "cells": [
    {
      "cell_type": "markdown",
      "metadata": {
        "id": "9TyPrGdfsADJ"
      },
      "source": [
        "1. Download and prepare the data"
      ]
    },
    {
      "cell_type": "code",
      "metadata": {
        "id": "9mRKOnzRsADK",
        "outputId": "c9f2f2cd-1206-476f-e901-bde5b57a37f5"
      },
      "source": [
        "import pandas as pd\n",
        "from sklearn.model_selection import train_test_split\n",
        "from sklearn.metrics import f1_score\n",
        "from sklearn.linear_model import LogisticRegression\n",
        "from sklearn.tree import DecisionTreeClassifier\n",
        "from sklearn.ensemble import RandomForestClassifier\n",
        "from sklearn.metrics import roc_auc_score\n",
        "from sklearn.utils import shuffle\n",
        "\n",
        "\n",
        "data=pd.read_csv('/datasets/Churn.csv')\n",
        "print(data.info())\n",
        "print(data.head())"
      ],
      "execution_count": null,
      "outputs": [
        {
          "output_type": "stream",
          "text": [
            "<class 'pandas.core.frame.DataFrame'>\n",
            "RangeIndex: 10000 entries, 0 to 9999\n",
            "Data columns (total 14 columns):\n",
            "RowNumber          10000 non-null int64\n",
            "CustomerId         10000 non-null int64\n",
            "Surname            10000 non-null object\n",
            "CreditScore        10000 non-null int64\n",
            "Geography          10000 non-null object\n",
            "Gender             10000 non-null object\n",
            "Age                10000 non-null int64\n",
            "Tenure             9091 non-null float64\n",
            "Balance            10000 non-null float64\n",
            "NumOfProducts      10000 non-null int64\n",
            "HasCrCard          10000 non-null int64\n",
            "IsActiveMember     10000 non-null int64\n",
            "EstimatedSalary    10000 non-null float64\n",
            "Exited             10000 non-null int64\n",
            "dtypes: float64(3), int64(8), object(3)\n",
            "memory usage: 1.1+ MB\n",
            "None\n",
            "   RowNumber  CustomerId   Surname  CreditScore Geography  Gender  Age  \\\n",
            "0          1    15634602  Hargrave          619    France  Female   42   \n",
            "1          2    15647311      Hill          608     Spain  Female   41   \n",
            "2          3    15619304      Onio          502    France  Female   42   \n",
            "3          4    15701354      Boni          699    France  Female   39   \n",
            "4          5    15737888  Mitchell          850     Spain  Female   43   \n",
            "\n",
            "   Tenure    Balance  NumOfProducts  HasCrCard  IsActiveMember  \\\n",
            "0     2.0       0.00              1          1               1   \n",
            "1     1.0   83807.86              1          0               1   \n",
            "2     8.0  159660.80              3          1               0   \n",
            "3     1.0       0.00              2          0               0   \n",
            "4     2.0  125510.82              1          1               1   \n",
            "\n",
            "   EstimatedSalary  Exited  \n",
            "0        101348.88       1  \n",
            "1        112542.58       0  \n",
            "2        113931.57       1  \n",
            "3         93826.63       0  \n",
            "4         79084.10       0  \n"
          ],
          "name": "stdout"
        }
      ]
    },
    {
      "cell_type": "markdown",
      "metadata": {
        "id": "tbdgJHoGsADL"
      },
      "source": [
        "Preprocessing data (filling blank values in Tenure column and changing the data type to int)"
      ]
    },
    {
      "cell_type": "code",
      "metadata": {
        "id": "ju7HGUXcsADM",
        "outputId": "b8c51a64-9644-41cc-a854-33a5c4e345f4"
      },
      "source": [
        "print(data.isnull().sum())\n",
        "data['Tenure']=data['Tenure'].fillna(0)\n",
        "data['Tenure']=data['Tenure'].astype(int)\n",
        "data=data.drop(['Surname'], axis=1)\n",
        "print(data.info())                 "
      ],
      "execution_count": null,
      "outputs": [
        {
          "output_type": "stream",
          "text": [
            "RowNumber            0\n",
            "CustomerId           0\n",
            "Surname              0\n",
            "CreditScore          0\n",
            "Geography            0\n",
            "Gender               0\n",
            "Age                  0\n",
            "Tenure             909\n",
            "Balance              0\n",
            "NumOfProducts        0\n",
            "HasCrCard            0\n",
            "IsActiveMember       0\n",
            "EstimatedSalary      0\n",
            "Exited               0\n",
            "dtype: int64\n",
            "<class 'pandas.core.frame.DataFrame'>\n",
            "RangeIndex: 10000 entries, 0 to 9999\n",
            "Data columns (total 13 columns):\n",
            "RowNumber          10000 non-null int64\n",
            "CustomerId         10000 non-null int64\n",
            "CreditScore        10000 non-null int64\n",
            "Geography          10000 non-null object\n",
            "Gender             10000 non-null object\n",
            "Age                10000 non-null int64\n",
            "Tenure             10000 non-null int64\n",
            "Balance            10000 non-null float64\n",
            "NumOfProducts      10000 non-null int64\n",
            "HasCrCard          10000 non-null int64\n",
            "IsActiveMember     10000 non-null int64\n",
            "EstimatedSalary    10000 non-null float64\n",
            "Exited             10000 non-null int64\n",
            "dtypes: float64(2), int64(9), object(2)\n",
            "memory usage: 1015.8+ KB\n",
            "None\n"
          ],
          "name": "stdout"
        }
      ]
    },
    {
      "cell_type": "markdown",
      "metadata": {
        "id": "tU4adz9vsADM"
      },
      "source": [
        "One hot encoding to change the categorical values into numerical"
      ]
    },
    {
      "cell_type": "code",
      "metadata": {
        "id": "mPTfB1NrsADM",
        "outputId": "dadc3cf6-fd23-4123-fd74-9781bcdc67b6"
      },
      "source": [
        "data_ohe=pd.get_dummies(data, drop_first=True)\n",
        "print(data_ohe.shape)"
      ],
      "execution_count": null,
      "outputs": [
        {
          "output_type": "stream",
          "text": [
            "(10000, 14)\n"
          ],
          "name": "stdout"
        }
      ]
    },
    {
      "cell_type": "markdown",
      "metadata": {
        "id": "EL-o8c-vsADN"
      },
      "source": [
        "2. Examine the balance of classes. Train the model without taking into account the imbalance. Briefly describe your findings."
      ]
    },
    {
      "cell_type": "code",
      "metadata": {
        "id": "Fukr6LJisADN",
        "outputId": "67e1e123-bfcb-418b-8a6a-8b36f0eabfe5"
      },
      "source": [
        "target=data_ohe['Exited']\n",
        "features=data_ohe.drop('Exited', axis=1)\n",
        "features_train, features_valid, target_train, target_valid=train_test_split(features, target, test_size=0.20, random_state=12345)\n",
        "features_train, features_test, target_train, target_test=train_test_split(features_train, target_train, test_size=0.2, random_state=12345)\n",
        "print(data_ohe['Exited'].value_counts())\n",
        "print(features_train.shape)\n",
        "print(target_train.shape)\n",
        "print(features_valid.shape)\n",
        "print(target_valid.shape)\n",
        "print(features_test.shape)\n",
        "print(target_test.shape)\n",
        "\n",
        "model_LR=LogisticRegression(random_state=12345, solver='liblinear')\n",
        "model_LR.fit(features_train, target_train)\n",
        "predicted_valid_LR=model_LR.predict(features_valid)\n",
        "print(f1_score(target_valid, predicted_valid_LR))\n",
        "\n",
        "model_DT=DecisionTreeClassifier(random_state=12345)\n",
        "model_DT.fit(features_train, target_train)\n",
        "predicted_valid_DT=model_DT.predict(features_valid)\n",
        "print(f1_score(target_valid, predicted_valid_DT))"
      ],
      "execution_count": null,
      "outputs": [
        {
          "output_type": "stream",
          "text": [
            "0    7963\n",
            "1    2037\n",
            "Name: Exited, dtype: int64\n",
            "(6400, 13)\n",
            "(6400,)\n",
            "(2000, 13)\n",
            "(2000,)\n",
            "(1600, 13)\n",
            "(1600,)\n",
            "0.0\n"
          ],
          "name": "stdout"
        },
        {
          "output_type": "stream",
          "text": [
            "/opt/conda/lib/python3.7/site-packages/sklearn/metrics/classification.py:1437: UndefinedMetricWarning: F-score is ill-defined and being set to 0.0 due to no predicted samples.\n",
            "  'precision', 'predicted', average, warn_for)\n"
          ],
          "name": "stderr"
        },
        {
          "output_type": "stream",
          "text": [
            "0.47183098591549294\n"
          ],
          "name": "stdout"
        }
      ]
    },
    {
      "cell_type": "markdown",
      "metadata": {
        "id": "z65Px2xKsADO"
      },
      "source": [
        "The data is unbalanced with large number of actual negatives. "
      ]
    },
    {
      "cell_type": "markdown",
      "metadata": {
        "id": "VDtdfPolsADO"
      },
      "source": [
        "Fixing class balance: Upsampling"
      ]
    },
    {
      "cell_type": "code",
      "metadata": {
        "id": "xglbNZbJsADP",
        "outputId": "599ef008-49b6-426e-cef6-efdf5d48624f"
      },
      "source": [
        "def upsample(features, target, repeat):\n",
        "    features_zeros=features[target==0]\n",
        "    features_ones=features[target==1]\n",
        "    target_zeros=target[target==0]\n",
        "    target_ones=target[target==1]\n",
        "    \n",
        "    features_upsampled=pd.concat([features_zeros] + [features_ones]*repeat)\n",
        "    target_upsampled=pd.concat([target_zeros] + [target_ones]*repeat)\n",
        "    \n",
        "    features_upsampled, target_upsampled=shuffle(features_upsampled, target_upsampled, random_state=12345)\n",
        "    return features_upsampled, target_upsampled\n",
        "\n",
        "features_upsampled, target_upsampled=upsample(features_train, target_train, 10)\n",
        "\n",
        "model_up_LR=LogisticRegression(random_state=12345, solver='liblinear')\n",
        "model_up_LR.fit(features_upsampled, target_upsampled)\n",
        "predicted_up_LR=model_up_LR.predict(features_valid)\n",
        "print(f1_score(target_valid, predicted_up_LR))\n",
        "\n",
        "model_up_DT=DecisionTreeClassifier(random_state=12345, max_depth=10)\n",
        "model_up_DT.fit(features_upsampled, target_upsampled)\n",
        "predicted_up_DT=model_up_DT.predict(features_valid)\n",
        "print(f1_score(target_valid, predicted_up_DT))\n",
        "\n",
        "model_up_RF=RandomForestClassifier(n_estimators=100, max_depth=10, random_state=12345)\n",
        "model_up_RF.fit(features_upsampled, target_upsampled)\n",
        "predicted_up_RF=model_up_RF.predict(features_valid)\n",
        "print(f1_score(target_valid, predicted_up_RF))\n",
        "\n"
      ],
      "execution_count": null,
      "outputs": [
        {
          "output_type": "stream",
          "text": [
            "0.3518747424804285\n",
            "0.5047318611987381\n",
            "0.5530596436870643\n"
          ],
          "name": "stdout"
        }
      ]
    },
    {
      "cell_type": "markdown",
      "metadata": {
        "id": "wTgnis83sADP"
      },
      "source": [
        "Fixing class balance: downsampling"
      ]
    },
    {
      "cell_type": "code",
      "metadata": {
        "id": "v_3oTYTWsADQ",
        "outputId": "d47c4880-a00c-4cb7-e1b1-a9aae2dd9f23"
      },
      "source": [
        "def downsample(features, target, fraction):\n",
        "    features_zeros=features[target==0]\n",
        "    features_ones=features[target==1]\n",
        "    target_zeros=target[target==0]\n",
        "    target_ones=target[target==1]\n",
        "    \n",
        "    features_downsampled=pd.concat([features_zeros.sample(frac=fraction, random_state=12345)] + [features_ones])\n",
        "    target_downsampled=pd.concat([target_zeros.sample(frac=fraction, random_state=12345)] + [target_ones])\n",
        "    \n",
        "    features_downsampled, target_downsampled=shuffle(features_downsampled, target_downsampled, random_state=12345)\n",
        "    return features_downsampled, target_downsampled\n",
        "\n",
        "features_downsampled, target_downsampled=downsample(features_train, target_train, 0.1)\n",
        "\n",
        "model_down_LR=LogisticRegression(random_state=12345, solver='liblinear')\n",
        "model_down_LR.fit(features_downsampled, target_downsampled)\n",
        "predicted_down_LR=model_down_LR.predict(features_valid)\n",
        "print(f1_score(target_valid, predicted_down_LR))\n",
        "\n",
        "model_down_DT=DecisionTreeClassifier(random_state=12345, max_depth=10)\n",
        "model_down_DT.fit(features_downsampled, target_downsampled)\n",
        "predicted_down_DT=model_down_DT.predict(features_valid)\n",
        "print(f1_score(target_valid, predicted_down_DT))\n",
        "\n",
        "model_down_RF=RandomForestClassifier(n_estimators=100, max_depth=10, random_state=12345)\n",
        "model_down_RF.fit(features_downsampled, target_downsampled)\n",
        "predicted_down_RF=model_down_RF.predict(features_valid)\n",
        "print(f1_score(target_valid, predicted_down_RF))\n",
        "    "
      ],
      "execution_count": null,
      "outputs": [
        {
          "output_type": "stream",
          "text": [
            "0.3518747424804285\n",
            "0.4700272479564032\n",
            "0.4707246376811594\n"
          ],
          "name": "stdout"
        }
      ]
    },
    {
      "cell_type": "markdown",
      "metadata": {
        "id": "sy75EGZfsADR"
      },
      "source": [
        "After upsampling and downsampling the dataset to improve class balance, 3 models were run on both the datasets. Random forest with upscaled data is by far the best model. Hence will fine tune it in the next step to reach the F1 score of 0.59."
      ]
    },
    {
      "cell_type": "code",
      "metadata": {
        "id": "itqoJQfqsADR",
        "outputId": "a94597aa-b139-4494-efb5-16a821ea9e43"
      },
      "source": [
        "for depth in range(10,20,1):\n",
        "    model_select=RandomForestClassifier(random_state=12345, max_depth=depth, n_estimators=100)\n",
        "    model_select.fit(features_upsampled, target_upsampled)\n",
        "    predicted_select=model_select.predict(features_valid)\n",
        "    print('depth:', depth, 'f1_score:',f1_score(target_valid, predicted_select))"
      ],
      "execution_count": null,
      "outputs": [
        {
          "output_type": "stream",
          "text": [
            "depth: 10 f1_score: 0.5530596436870643\n",
            "depth: 11 f1_score: 0.5779661016949151\n",
            "depth: 12 f1_score: 0.6020128087831655\n",
            "depth: 13 f1_score: 0.6158415841584158\n",
            "depth: 14 f1_score: 0.6059957173447537\n",
            "depth: 15 f1_score: 0.6020066889632107\n",
            "depth: 16 f1_score: 0.6040428061831153\n",
            "depth: 17 f1_score: 0.5987577639751552\n",
            "depth: 18 f1_score: 0.600997506234414\n",
            "depth: 19 f1_score: 0.6056701030927835\n"
          ],
          "name": "stdout"
        }
      ]
    },
    {
      "cell_type": "markdown",
      "metadata": {
        "id": "oMsGq6oxsADR"
      },
      "source": [
        "Max score of 0.61 is optained at a depth of 13, hence selected that model for final testing."
      ]
    },
    {
      "cell_type": "markdown",
      "metadata": {
        "id": "Imj1lwResADS"
      },
      "source": [
        "Final testing of data on test set"
      ]
    },
    {
      "cell_type": "code",
      "metadata": {
        "id": "8XLpDc2bsADS",
        "outputId": "11d76a74-4e6d-4a2c-deaa-5e8d069e6f5d"
      },
      "source": [
        "model_select1=RandomForestClassifier(random_state=12345, max_depth=13, n_estimators=100)\n",
        "model_select1.fit(pd.concat([features_train]+[features_valid]), pd.concat([target_train]+[target_valid]))\n",
        "pred=model_select1.predict(features_test)\n",
        "print(f1_score(target_test, pred))"
      ],
      "execution_count": null,
      "outputs": [
        {
          "output_type": "stream",
          "text": [
            "0.5679513184584178\n"
          ],
          "name": "stdout"
        }
      ]
    },
    {
      "cell_type": "code",
      "metadata": {
        "id": "3CZi0IEGsADT",
        "outputId": "a70f51ad-0eaf-4aa8-b6d4-879787e4edb6"
      },
      "source": [
        "probabilities_test=model_select1.predict_proba(features_test)\n",
        "probabilities_test_one=probabilities_test[:,1]\n",
        "auc_roc=roc_auc_score(target_test,probabilities_test_one)\n",
        "print(auc_roc)"
      ],
      "execution_count": null,
      "outputs": [
        {
          "output_type": "stream",
          "text": [
            "0.8505741861772916\n"
          ],
          "name": "stdout"
        }
      ]
    },
    {
      "cell_type": "markdown",
      "metadata": {
        "id": "2UwaYb7isADT"
      },
      "source": [
        "Tried different depths for random forest and the f1 score is 0.61 at max_depth 13."
      ]
    },
    {
      "cell_type": "markdown",
      "metadata": {
        "id": "b-Wb05NqsADU"
      },
      "source": [
        "auc_roc score is 0.85 which is much higher then 0.5 which is the score of random model. That means our model has high quality than a random model."
      ]
    }
  ]
}